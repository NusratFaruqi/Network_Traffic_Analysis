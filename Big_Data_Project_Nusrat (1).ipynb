{
  "cells": [
    {
      "cell_type": "code",
      "execution_count": 1,
      "metadata": {
        "id": "bY8lTKEj6GnH"
      },
      "outputs": [],
      "source": [
        "\n",
        "import findspark\n",
        "findspark.init()"
      ]
    },
    {
      "cell_type": "code",
      "execution_count": 5,
      "metadata": {},
      "outputs": [
        {
          "name": "stdout",
          "output_type": "stream",
          "text": [
            "Collecting matplotlib\n",
            "  Downloading matplotlib-3.8.2-cp39-cp39-win_amd64.whl.metadata (5.9 kB)\n",
            "Collecting contourpy>=1.0.1 (from matplotlib)\n",
            "  Using cached contourpy-1.2.0-cp39-cp39-win_amd64.whl.metadata (5.8 kB)\n",
            "Collecting cycler>=0.10 (from matplotlib)\n",
            "  Using cached cycler-0.12.1-py3-none-any.whl.metadata (3.8 kB)\n",
            "Collecting fonttools>=4.22.0 (from matplotlib)\n",
            "  Downloading fonttools-4.45.0-cp39-cp39-win_amd64.whl.metadata (158 kB)\n",
            "     ---------------------------------------- 0.0/158.1 kB ? eta -:--:--\n",
            "     ------- ------------------------------- 30.7/158.1 kB 1.3 MB/s eta 0:00:01\n",
            "     --------------------------- ---------- 112.6/158.1 kB 1.3 MB/s eta 0:00:01\n",
            "     -------------------------------------- 158.1/158.1 kB 1.2 MB/s eta 0:00:00\n",
            "Collecting kiwisolver>=1.3.1 (from matplotlib)\n",
            "  Using cached kiwisolver-1.4.5-cp39-cp39-win_amd64.whl.metadata (6.5 kB)\n",
            "Requirement already satisfied: numpy<2,>=1.21 in d:\\bigdata_project\\.venv\\lib\\site-packages (from matplotlib) (1.26.2)\n",
            "Requirement already satisfied: packaging>=20.0 in d:\\bigdata_project\\.venv\\lib\\site-packages (from matplotlib) (23.2)\n",
            "Collecting pillow>=8 (from matplotlib)\n",
            "  Using cached Pillow-10.1.0-cp39-cp39-win_amd64.whl.metadata (9.6 kB)\n",
            "Collecting pyparsing>=2.3.1 (from matplotlib)\n",
            "  Using cached pyparsing-3.1.1-py3-none-any.whl.metadata (5.1 kB)\n",
            "Requirement already satisfied: python-dateutil>=2.7 in d:\\bigdata_project\\.venv\\lib\\site-packages (from matplotlib) (2.8.2)\n",
            "Collecting importlib-resources>=3.2.0 (from matplotlib)\n",
            "  Using cached importlib_resources-6.1.1-py3-none-any.whl.metadata (4.1 kB)\n",
            "Requirement already satisfied: zipp>=3.1.0 in d:\\bigdata_project\\.venv\\lib\\site-packages (from importlib-resources>=3.2.0->matplotlib) (3.17.0)\n",
            "Requirement already satisfied: six>=1.5 in d:\\bigdata_project\\.venv\\lib\\site-packages (from python-dateutil>=2.7->matplotlib) (1.16.0)\n",
            "Downloading matplotlib-3.8.2-cp39-cp39-win_amd64.whl (7.6 MB)\n",
            "   ---------------------------------------- 0.0/7.6 MB ? eta -:--:--\n",
            "   ---------------------------------------- 0.0/7.6 MB ? eta -:--:--\n",
            "    --------------------------------------- 0.2/7.6 MB 2.6 MB/s eta 0:00:03\n",
            "   - -------------------------------------- 0.2/7.6 MB 1.6 MB/s eta 0:00:05\n",
            "   - -------------------------------------- 0.3/7.6 MB 2.1 MB/s eta 0:00:04\n",
            "   -- ------------------------------------- 0.5/7.6 MB 2.1 MB/s eta 0:00:04\n",
            "   --- ------------------------------------ 0.6/7.6 MB 2.2 MB/s eta 0:00:04\n",
            "   --- ------------------------------------ 0.7/7.6 MB 2.4 MB/s eta 0:00:03\n",
            "   ---- ----------------------------------- 0.9/7.6 MB 2.6 MB/s eta 0:00:03\n",
            "   ----- ---------------------------------- 1.1/7.6 MB 2.7 MB/s eta 0:00:03\n",
            "   ------ --------------------------------- 1.2/7.6 MB 2.7 MB/s eta 0:00:03\n",
            "   ------ --------------------------------- 1.3/7.6 MB 2.4 MB/s eta 0:00:03\n",
            "   ------- -------------------------------- 1.5/7.6 MB 2.6 MB/s eta 0:00:03\n",
            "   -------- ------------------------------- 1.6/7.6 MB 2.6 MB/s eta 0:00:03\n",
            "   --------- ------------------------------ 1.8/7.6 MB 2.6 MB/s eta 0:00:03\n",
            "   --------- ------------------------------ 1.9/7.6 MB 2.6 MB/s eta 0:00:03\n",
            "   ---------- ----------------------------- 1.9/7.6 MB 2.5 MB/s eta 0:00:03\n",
            "   ---------- ----------------------------- 2.0/7.6 MB 2.5 MB/s eta 0:00:03\n",
            "   ----------- ---------------------------- 2.2/7.6 MB 2.5 MB/s eta 0:00:03\n",
            "   ----------- ---------------------------- 2.3/7.6 MB 2.5 MB/s eta 0:00:03\n",
            "   ------------ --------------------------- 2.4/7.6 MB 2.5 MB/s eta 0:00:03\n",
            "   ------------- -------------------------- 2.5/7.6 MB 2.5 MB/s eta 0:00:03\n",
            "   ------------- -------------------------- 2.6/7.6 MB 2.4 MB/s eta 0:00:03\n",
            "   -------------- ------------------------- 2.7/7.6 MB 2.5 MB/s eta 0:00:02\n",
            "   -------------- ------------------------- 2.9/7.6 MB 2.5 MB/s eta 0:00:02\n",
            "   --------------- ------------------------ 3.0/7.6 MB 2.5 MB/s eta 0:00:02\n",
            "   ---------------- ----------------------- 3.1/7.6 MB 2.5 MB/s eta 0:00:02\n",
            "   ---------------- ----------------------- 3.2/7.6 MB 2.5 MB/s eta 0:00:02\n",
            "   ----------------- ---------------------- 3.3/7.6 MB 2.5 MB/s eta 0:00:02\n",
            "   ------------------ --------------------- 3.5/7.6 MB 2.5 MB/s eta 0:00:02\n",
            "   ------------------ --------------------- 3.6/7.6 MB 2.5 MB/s eta 0:00:02\n",
            "   ------------------- -------------------- 3.7/7.6 MB 2.5 MB/s eta 0:00:02\n",
            "   ------------------- -------------------- 3.8/7.6 MB 2.4 MB/s eta 0:00:02\n",
            "   -------------------- ------------------- 4.0/7.6 MB 2.5 MB/s eta 0:00:02\n",
            "   --------------------- ------------------ 4.1/7.6 MB 2.5 MB/s eta 0:00:02\n",
            "   --------------------- ------------------ 4.2/7.6 MB 2.4 MB/s eta 0:00:02\n",
            "   ---------------------- ----------------- 4.3/7.6 MB 2.4 MB/s eta 0:00:02\n",
            "   ---------------------- ----------------- 4.4/7.6 MB 2.4 MB/s eta 0:00:02\n",
            "   ----------------------- ---------------- 4.4/7.6 MB 2.4 MB/s eta 0:00:02\n",
            "   ----------------------- ---------------- 4.5/7.6 MB 2.4 MB/s eta 0:00:02\n",
            "   ------------------------ --------------- 4.6/7.6 MB 2.4 MB/s eta 0:00:02\n",
            "   ------------------------ --------------- 4.7/7.6 MB 2.4 MB/s eta 0:00:02\n",
            "   ------------------------ --------------- 4.8/7.6 MB 2.3 MB/s eta 0:00:02\n",
            "   ------------------------- -------------- 4.8/7.6 MB 2.3 MB/s eta 0:00:02\n",
            "   ------------------------- -------------- 4.9/7.6 MB 2.3 MB/s eta 0:00:02\n",
            "   -------------------------- ------------- 5.0/7.6 MB 2.3 MB/s eta 0:00:02\n",
            "   -------------------------- ------------- 5.1/7.6 MB 2.3 MB/s eta 0:00:02\n",
            "   --------------------------- ------------ 5.2/7.6 MB 2.3 MB/s eta 0:00:02\n",
            "   --------------------------- ------------ 5.3/7.6 MB 2.3 MB/s eta 0:00:02\n",
            "   ---------------------------- ----------- 5.4/7.6 MB 2.3 MB/s eta 0:00:01\n",
            "   ----------------------------- ---------- 5.6/7.6 MB 2.3 MB/s eta 0:00:01\n",
            "   ----------------------------- ---------- 5.7/7.6 MB 2.3 MB/s eta 0:00:01\n",
            "   ------------------------------ --------- 5.7/7.6 MB 2.3 MB/s eta 0:00:01\n",
            "   ------------------------------ --------- 5.9/7.6 MB 2.3 MB/s eta 0:00:01\n",
            "   ------------------------------- -------- 6.0/7.6 MB 2.3 MB/s eta 0:00:01\n",
            "   ------------------------------- -------- 6.1/7.6 MB 2.3 MB/s eta 0:00:01\n",
            "   -------------------------------- ------- 6.2/7.6 MB 2.3 MB/s eta 0:00:01\n",
            "   -------------------------------- ------- 6.3/7.6 MB 2.3 MB/s eta 0:00:01\n",
            "   --------------------------------- ------ 6.4/7.6 MB 2.3 MB/s eta 0:00:01\n",
            "   --------------------------------- ------ 6.5/7.6 MB 2.3 MB/s eta 0:00:01\n",
            "   ---------------------------------- ----- 6.6/7.6 MB 2.3 MB/s eta 0:00:01\n",
            "   ---------------------------------- ----- 6.7/7.6 MB 2.3 MB/s eta 0:00:01\n",
            "   ----------------------------------- ---- 6.8/7.6 MB 2.3 MB/s eta 0:00:01\n",
            "   ----------------------------------- ---- 6.9/7.6 MB 2.3 MB/s eta 0:00:01\n",
            "   ------------------------------------ --- 7.0/7.6 MB 2.3 MB/s eta 0:00:01\n",
            "   ------------------------------------ --- 7.1/7.6 MB 2.3 MB/s eta 0:00:01\n",
            "   ------------------------------------- -- 7.1/7.6 MB 2.3 MB/s eta 0:00:01\n",
            "   ------------------------------------- -- 7.2/7.6 MB 2.2 MB/s eta 0:00:01\n",
            "   -------------------------------------- - 7.4/7.6 MB 2.2 MB/s eta 0:00:01\n",
            "   ---------------------------------------  7.5/7.6 MB 2.2 MB/s eta 0:00:01\n",
            "   ---------------------------------------  7.6/7.6 MB 2.2 MB/s eta 0:00:01\n",
            "   ---------------------------------------  7.6/7.6 MB 2.2 MB/s eta 0:00:01\n",
            "   ---------------------------------------- 7.6/7.6 MB 2.2 MB/s eta 0:00:00\n",
            "Using cached contourpy-1.2.0-cp39-cp39-win_amd64.whl (181 kB)\n",
            "Using cached cycler-0.12.1-py3-none-any.whl (8.3 kB)\n",
            "Downloading fonttools-4.45.0-cp39-cp39-win_amd64.whl (2.2 MB)\n",
            "   ---------------------------------------- 0.0/2.2 MB ? eta -:--:--\n",
            "   -- ------------------------------------- 0.1/2.2 MB 2.4 MB/s eta 0:00:01\n",
            "   ---- ----------------------------------- 0.2/2.2 MB 2.5 MB/s eta 0:00:01\n",
            "   ------ --------------------------------- 0.3/2.2 MB 2.3 MB/s eta 0:00:01\n",
            "   ------- -------------------------------- 0.4/2.2 MB 2.2 MB/s eta 0:00:01\n",
            "   --------- ------------------------------ 0.5/2.2 MB 2.2 MB/s eta 0:00:01\n",
            "   ------------ --------------------------- 0.7/2.2 MB 2.3 MB/s eta 0:00:01\n",
            "   ------------- -------------------------- 0.7/2.2 MB 2.2 MB/s eta 0:00:01\n",
            "   --------------- ------------------------ 0.8/2.2 MB 2.3 MB/s eta 0:00:01\n",
            "   ----------------- ---------------------- 1.0/2.2 MB 2.3 MB/s eta 0:00:01\n",
            "   ------------------- -------------------- 1.1/2.2 MB 2.3 MB/s eta 0:00:01\n",
            "   --------------------- ------------------ 1.2/2.2 MB 2.3 MB/s eta 0:00:01\n",
            "   ----------------------- ---------------- 1.3/2.2 MB 2.3 MB/s eta 0:00:01\n",
            "   -------------------------- ------------- 1.4/2.2 MB 2.3 MB/s eta 0:00:01\n",
            "   ----------------------------- ---------- 1.6/2.2 MB 2.3 MB/s eta 0:00:01\n",
            "   ------------------------------- -------- 1.7/2.2 MB 2.3 MB/s eta 0:00:01\n",
            "   --------------------------------- ------ 1.8/2.2 MB 2.3 MB/s eta 0:00:01\n",
            "   ---------------------------------- ----- 1.9/2.2 MB 2.3 MB/s eta 0:00:01\n",
            "   ------------------------------------ --- 2.0/2.2 MB 2.3 MB/s eta 0:00:01\n",
            "   -------------------------------------- - 2.1/2.2 MB 2.3 MB/s eta 0:00:01\n",
            "   ---------------------------------------  2.2/2.2 MB 2.2 MB/s eta 0:00:01\n",
            "   ---------------------------------------- 2.2/2.2 MB 2.2 MB/s eta 0:00:00\n",
            "Using cached importlib_resources-6.1.1-py3-none-any.whl (33 kB)\n",
            "Using cached kiwisolver-1.4.5-cp39-cp39-win_amd64.whl (56 kB)\n",
            "Using cached Pillow-10.1.0-cp39-cp39-win_amd64.whl (2.6 MB)\n",
            "Using cached pyparsing-3.1.1-py3-none-any.whl (103 kB)\n",
            "Installing collected packages: pyparsing, pillow, kiwisolver, importlib-resources, fonttools, cycler, contourpy, matplotlib\n",
            "Successfully installed contourpy-1.2.0 cycler-0.12.1 fonttools-4.45.0 importlib-resources-6.1.1 kiwisolver-1.4.5 matplotlib-3.8.2 pillow-10.1.0 pyparsing-3.1.1\n",
            "Note: you may need to restart the kernel to use updated packages.\n"
          ]
        }
      ],
      "source": [
        "%pip install matplotlib"
      ]
    },
    {
      "cell_type": "code",
      "execution_count": 7,
      "metadata": {},
      "outputs": [
        {
          "name": "stdout",
          "output_type": "stream",
          "text": [
            "Collecting pandas\n",
            "  Downloading pandas-2.1.3-cp39-cp39-win_amd64.whl.metadata (18 kB)\n",
            "Requirement already satisfied: numpy<2,>=1.22.4 in d:\\bigdata_project\\.venv\\lib\\site-packages (from pandas) (1.26.2)\n",
            "Requirement already satisfied: python-dateutil>=2.8.2 in d:\\bigdata_project\\.venv\\lib\\site-packages (from pandas) (2.8.2)\n",
            "Collecting pytz>=2020.1 (from pandas)\n",
            "  Downloading pytz-2023.3.post1-py2.py3-none-any.whl.metadata (22 kB)\n",
            "Collecting tzdata>=2022.1 (from pandas)\n",
            "  Downloading tzdata-2023.3-py2.py3-none-any.whl (341 kB)\n",
            "     ---------------------------------------- 0.0/341.8 kB ? eta -:--:--\n",
            "     ---- -------------------------------- 41.0/341.8 kB 960.0 kB/s eta 0:00:01\n",
            "     ------- ----------------------------- 71.7/341.8 kB 653.6 kB/s eta 0:00:01\n",
            "     --------------- ---------------------- 143.4/341.8 kB 1.2 MB/s eta 0:00:01\n",
            "     -------------------------- ----------- 235.5/341.8 kB 1.3 MB/s eta 0:00:01\n",
            "     ---------------------------------- --- 307.2/341.8 kB 1.4 MB/s eta 0:00:01\n",
            "     -------------------------------------- 341.8/341.8 kB 1.3 MB/s eta 0:00:00\n",
            "Requirement already satisfied: six>=1.5 in d:\\bigdata_project\\.venv\\lib\\site-packages (from python-dateutil>=2.8.2->pandas) (1.16.0)\n",
            "Downloading pandas-2.1.3-cp39-cp39-win_amd64.whl (10.8 MB)\n",
            "   ---------------------------------------- 0.0/10.8 MB ? eta -:--:--\n",
            "    --------------------------------------- 0.3/10.8 MB 7.9 MB/s eta 0:00:02\n",
            "   - -------------------------------------- 0.5/10.8 MB 4.9 MB/s eta 0:00:03\n",
            "   - -------------------------------------- 0.5/10.8 MB 4.9 MB/s eta 0:00:03\n",
            "   - -------------------------------------- 0.5/10.8 MB 2.6 MB/s eta 0:00:04\n",
            "   -- ------------------------------------- 0.7/10.8 MB 2.7 MB/s eta 0:00:04\n",
            "   -- ------------------------------------- 0.7/10.8 MB 2.8 MB/s eta 0:00:04\n",
            "   -- ------------------------------------- 0.7/10.8 MB 2.8 MB/s eta 0:00:04\n",
            "   -- ------------------------------------- 0.8/10.8 MB 2.1 MB/s eta 0:00:05\n",
            "   ---- ----------------------------------- 1.2/10.8 MB 2.7 MB/s eta 0:00:04\n",
            "   ----- ---------------------------------- 1.4/10.8 MB 2.8 MB/s eta 0:00:04\n",
            "   ----- ---------------------------------- 1.5/10.8 MB 2.7 MB/s eta 0:00:04\n",
            "   ----- ---------------------------------- 1.5/10.8 MB 2.8 MB/s eta 0:00:04\n",
            "   ----- ---------------------------------- 1.5/10.8 MB 2.4 MB/s eta 0:00:04\n",
            "   ----- ---------------------------------- 1.6/10.8 MB 2.4 MB/s eta 0:00:04\n",
            "   ------ --------------------------------- 1.8/10.8 MB 2.5 MB/s eta 0:00:04\n",
            "   ------ --------------------------------- 1.8/10.8 MB 2.5 MB/s eta 0:00:04\n",
            "   ------- -------------------------------- 2.0/10.8 MB 2.5 MB/s eta 0:00:04\n",
            "   ------- -------------------------------- 2.1/10.8 MB 2.4 MB/s eta 0:00:04\n",
            "   -------- ------------------------------- 2.3/10.8 MB 2.5 MB/s eta 0:00:04\n",
            "   -------- ------------------------------- 2.3/10.8 MB 2.5 MB/s eta 0:00:04\n",
            "   -------- ------------------------------- 2.3/10.8 MB 2.4 MB/s eta 0:00:04\n",
            "   --------- ------------------------------ 2.5/10.8 MB 2.4 MB/s eta 0:00:04\n",
            "   --------- ------------------------------ 2.7/10.8 MB 2.4 MB/s eta 0:00:04\n",
            "   ---------- ----------------------------- 2.8/10.8 MB 2.4 MB/s eta 0:00:04\n",
            "   ---------- ----------------------------- 2.8/10.8 MB 2.4 MB/s eta 0:00:04\n",
            "   ---------- ----------------------------- 2.9/10.8 MB 2.3 MB/s eta 0:00:04\n",
            "   ----------- ---------------------------- 3.0/10.8 MB 2.3 MB/s eta 0:00:04\n",
            "   ------------ --------------------------- 3.3/10.8 MB 2.4 MB/s eta 0:00:04\n",
            "   ------------ --------------------------- 3.4/10.8 MB 2.4 MB/s eta 0:00:04\n",
            "   ------------ --------------------------- 3.5/10.8 MB 2.4 MB/s eta 0:00:04\n",
            "   ------------ --------------------------- 3.5/10.8 MB 2.4 MB/s eta 0:00:04\n",
            "   ------------- -------------------------- 3.6/10.8 MB 2.4 MB/s eta 0:00:04\n",
            "   ------------- -------------------------- 3.7/10.8 MB 2.3 MB/s eta 0:00:04\n",
            "   ------------- -------------------------- 3.7/10.8 MB 2.3 MB/s eta 0:00:04\n",
            "   -------------- ------------------------- 3.8/10.8 MB 2.3 MB/s eta 0:00:04\n",
            "   -------------- ------------------------- 3.9/10.8 MB 2.2 MB/s eta 0:00:04\n",
            "   -------------- ------------------------- 3.9/10.8 MB 2.2 MB/s eta 0:00:04\n",
            "   -------------- ------------------------- 4.0/10.8 MB 2.2 MB/s eta 0:00:04\n",
            "   -------------- ------------------------- 4.0/10.8 MB 2.2 MB/s eta 0:00:04\n",
            "   --------------- ------------------------ 4.1/10.8 MB 2.2 MB/s eta 0:00:04\n",
            "   --------------- ------------------------ 4.2/10.8 MB 2.1 MB/s eta 0:00:04\n",
            "   --------------- ------------------------ 4.2/10.8 MB 2.1 MB/s eta 0:00:04\n",
            "   --------------- ------------------------ 4.3/10.8 MB 2.1 MB/s eta 0:00:04\n",
            "   ---------------- ----------------------- 4.4/10.8 MB 2.1 MB/s eta 0:00:04\n",
            "   ---------------- ----------------------- 4.4/10.8 MB 2.0 MB/s eta 0:00:04\n",
            "   ---------------- ----------------------- 4.5/10.8 MB 2.0 MB/s eta 0:00:04\n",
            "   ---------------- ----------------------- 4.5/10.8 MB 2.0 MB/s eta 0:00:04\n",
            "   ----------------- ---------------------- 4.6/10.8 MB 2.0 MB/s eta 0:00:04\n",
            "   ----------------- ---------------------- 4.7/10.8 MB 2.0 MB/s eta 0:00:04\n",
            "   ----------------- ---------------------- 4.7/10.8 MB 2.0 MB/s eta 0:00:04\n",
            "   ----------------- ---------------------- 4.8/10.8 MB 2.0 MB/s eta 0:00:04\n",
            "   ----------------- ---------------------- 4.9/10.8 MB 2.0 MB/s eta 0:00:04\n",
            "   ------------------ --------------------- 4.9/10.8 MB 1.9 MB/s eta 0:00:04\n",
            "   ------------------ --------------------- 5.0/10.8 MB 1.9 MB/s eta 0:00:03\n",
            "   ------------------ --------------------- 5.0/10.8 MB 1.9 MB/s eta 0:00:03\n",
            "   ------------------ --------------------- 5.1/10.8 MB 1.9 MB/s eta 0:00:03\n",
            "   ------------------- -------------------- 5.2/10.8 MB 1.9 MB/s eta 0:00:03\n",
            "   ------------------- -------------------- 5.2/10.8 MB 1.9 MB/s eta 0:00:03\n",
            "   ------------------- -------------------- 5.3/10.8 MB 1.9 MB/s eta 0:00:03\n",
            "   ------------------- -------------------- 5.4/10.8 MB 1.9 MB/s eta 0:00:03\n",
            "   -------------------- ------------------- 5.5/10.8 MB 1.9 MB/s eta 0:00:03\n",
            "   -------------------- ------------------- 5.6/10.8 MB 1.9 MB/s eta 0:00:03\n",
            "   -------------------- ------------------- 5.6/10.8 MB 1.9 MB/s eta 0:00:03\n",
            "   --------------------- ------------------ 5.7/10.8 MB 1.8 MB/s eta 0:00:03\n",
            "   --------------------- ------------------ 5.8/10.8 MB 1.8 MB/s eta 0:00:03\n",
            "   --------------------- ------------------ 5.8/10.8 MB 1.8 MB/s eta 0:00:03\n",
            "   --------------------- ------------------ 5.9/10.8 MB 1.8 MB/s eta 0:00:03\n",
            "   ---------------------- ----------------- 6.0/10.8 MB 1.8 MB/s eta 0:00:03\n",
            "   ---------------------- ----------------- 6.0/10.8 MB 1.8 MB/s eta 0:00:03\n",
            "   ---------------------- ----------------- 6.1/10.8 MB 1.8 MB/s eta 0:00:03\n",
            "   ---------------------- ----------------- 6.2/10.8 MB 1.8 MB/s eta 0:00:03\n",
            "   ----------------------- ---------------- 6.2/10.8 MB 1.8 MB/s eta 0:00:03\n",
            "   ----------------------- ---------------- 6.3/10.8 MB 1.8 MB/s eta 0:00:03\n",
            "   ----------------------- ---------------- 6.4/10.8 MB 1.8 MB/s eta 0:00:03\n",
            "   ----------------------- ---------------- 6.4/10.8 MB 1.8 MB/s eta 0:00:03\n",
            "   ------------------------ --------------- 6.5/10.8 MB 1.8 MB/s eta 0:00:03\n",
            "   ------------------------ --------------- 6.6/10.8 MB 1.8 MB/s eta 0:00:03\n",
            "   ------------------------ --------------- 6.7/10.8 MB 1.8 MB/s eta 0:00:03\n",
            "   ------------------------- -------------- 6.8/10.8 MB 1.8 MB/s eta 0:00:03\n",
            "   ------------------------- -------------- 6.8/10.8 MB 1.8 MB/s eta 0:00:03\n",
            "   ------------------------- -------------- 6.9/10.8 MB 1.8 MB/s eta 0:00:03\n",
            "   ------------------------- -------------- 7.0/10.8 MB 1.8 MB/s eta 0:00:03\n",
            "   -------------------------- ------------- 7.0/10.8 MB 1.8 MB/s eta 0:00:03\n",
            "   -------------------------- ------------- 7.1/10.8 MB 1.8 MB/s eta 0:00:03\n",
            "   -------------------------- ------------- 7.1/10.8 MB 1.8 MB/s eta 0:00:03\n",
            "   -------------------------- ------------- 7.1/10.8 MB 1.7 MB/s eta 0:00:03\n",
            "   -------------------------- ------------- 7.3/10.8 MB 1.7 MB/s eta 0:00:03\n",
            "   --------------------------- ------------ 7.3/10.8 MB 1.7 MB/s eta 0:00:02\n",
            "   --------------------------- ------------ 7.4/10.8 MB 1.7 MB/s eta 0:00:02\n",
            "   --------------------------- ------------ 7.4/10.8 MB 1.7 MB/s eta 0:00:02\n",
            "   --------------------------- ------------ 7.5/10.8 MB 1.7 MB/s eta 0:00:02\n",
            "   --------------------------- ------------ 7.5/10.8 MB 1.7 MB/s eta 0:00:02\n",
            "   ---------------------------- ----------- 7.6/10.8 MB 1.7 MB/s eta 0:00:02\n",
            "   ---------------------------- ----------- 7.6/10.8 MB 1.7 MB/s eta 0:00:02\n",
            "   ---------------------------- ----------- 7.7/10.8 MB 1.7 MB/s eta 0:00:02\n",
            "   ---------------------------- ----------- 7.8/10.8 MB 1.7 MB/s eta 0:00:02\n",
            "   ----------------------------- ---------- 7.8/10.8 MB 1.7 MB/s eta 0:00:02\n",
            "   ----------------------------- ---------- 7.9/10.8 MB 1.7 MB/s eta 0:00:02\n",
            "   ----------------------------- ---------- 7.9/10.8 MB 1.7 MB/s eta 0:00:02\n",
            "   ----------------------------- ---------- 8.0/10.8 MB 1.7 MB/s eta 0:00:02\n",
            "   ----------------------------- ---------- 8.1/10.8 MB 1.7 MB/s eta 0:00:02\n",
            "   ------------------------------ --------- 8.1/10.8 MB 1.7 MB/s eta 0:00:02\n",
            "   ------------------------------ --------- 8.2/10.8 MB 1.7 MB/s eta 0:00:02\n",
            "   ------------------------------ --------- 8.3/10.8 MB 1.7 MB/s eta 0:00:02\n",
            "   ------------------------------- -------- 8.4/10.8 MB 1.7 MB/s eta 0:00:02\n",
            "   ------------------------------- -------- 8.4/10.8 MB 1.7 MB/s eta 0:00:02\n",
            "   ------------------------------- -------- 8.5/10.8 MB 1.6 MB/s eta 0:00:02\n",
            "   ------------------------------- -------- 8.6/10.8 MB 1.6 MB/s eta 0:00:02\n",
            "   ------------------------------- -------- 8.6/10.8 MB 1.6 MB/s eta 0:00:02\n",
            "   -------------------------------- ------- 8.7/10.8 MB 1.6 MB/s eta 0:00:02\n",
            "   -------------------------------- ------- 8.7/10.8 MB 1.6 MB/s eta 0:00:02\n",
            "   -------------------------------- ------- 8.8/10.8 MB 1.6 MB/s eta 0:00:02\n",
            "   -------------------------------- ------- 8.9/10.8 MB 1.6 MB/s eta 0:00:02\n",
            "   --------------------------------- ------ 8.9/10.8 MB 1.6 MB/s eta 0:00:02\n",
            "   --------------------------------- ------ 9.0/10.8 MB 1.6 MB/s eta 0:00:02\n",
            "   --------------------------------- ------ 9.1/10.8 MB 1.6 MB/s eta 0:00:02\n",
            "   --------------------------------- ------ 9.1/10.8 MB 1.6 MB/s eta 0:00:02\n",
            "   ---------------------------------- ----- 9.2/10.8 MB 1.6 MB/s eta 0:00:01\n",
            "   ---------------------------------- ----- 9.3/10.8 MB 1.6 MB/s eta 0:00:01\n",
            "   ---------------------------------- ----- 9.3/10.8 MB 1.6 MB/s eta 0:00:01\n",
            "   ---------------------------------- ----- 9.4/10.8 MB 1.6 MB/s eta 0:00:01\n",
            "   ----------------------------------- ---- 9.5/10.8 MB 1.6 MB/s eta 0:00:01\n",
            "   ----------------------------------- ---- 9.5/10.8 MB 1.6 MB/s eta 0:00:01\n",
            "   ----------------------------------- ---- 9.6/10.8 MB 1.6 MB/s eta 0:00:01\n",
            "   ----------------------------------- ---- 9.7/10.8 MB 1.6 MB/s eta 0:00:01\n",
            "   ------------------------------------ --- 9.8/10.8 MB 1.6 MB/s eta 0:00:01\n",
            "   ------------------------------------ --- 9.8/10.8 MB 1.6 MB/s eta 0:00:01\n",
            "   ------------------------------------ --- 9.9/10.8 MB 1.6 MB/s eta 0:00:01\n",
            "   ------------------------------------ --- 10.0/10.8 MB 1.6 MB/s eta 0:00:01\n",
            "   ------------------------------------- -- 10.0/10.8 MB 1.6 MB/s eta 0:00:01\n",
            "   ------------------------------------- -- 10.1/10.8 MB 1.6 MB/s eta 0:00:01\n",
            "   ------------------------------------- -- 10.2/10.8 MB 1.6 MB/s eta 0:00:01\n",
            "   ------------------------------------- -- 10.3/10.8 MB 1.6 MB/s eta 0:00:01\n",
            "   -------------------------------------- - 10.3/10.8 MB 1.6 MB/s eta 0:00:01\n",
            "   -------------------------------------- - 10.4/10.8 MB 1.6 MB/s eta 0:00:01\n",
            "   -------------------------------------- - 10.5/10.8 MB 1.6 MB/s eta 0:00:01\n",
            "   ---------------------------------------  10.5/10.8 MB 1.6 MB/s eta 0:00:01\n",
            "   ---------------------------------------  10.6/10.8 MB 1.6 MB/s eta 0:00:01\n",
            "   ---------------------------------------  10.7/10.8 MB 1.6 MB/s eta 0:00:01\n",
            "   ---------------------------------------  10.7/10.8 MB 1.6 MB/s eta 0:00:01\n",
            "   ---------------------------------------  10.8/10.8 MB 1.6 MB/s eta 0:00:01\n",
            "   ---------------------------------------  10.8/10.8 MB 1.6 MB/s eta 0:00:01\n",
            "   ---------------------------------------- 10.8/10.8 MB 1.6 MB/s eta 0:00:00\n",
            "Downloading pytz-2023.3.post1-py2.py3-none-any.whl (502 kB)\n",
            "   ---------------------------------------- 0.0/502.5 kB ? eta -:--:--\n",
            "   ------ --------------------------------- 81.9/502.5 kB 1.5 MB/s eta 0:00:01\n",
            "   ----------- ---------------------------- 143.4/502.5 kB 1.4 MB/s eta 0:00:01\n",
            "   ---------------- ----------------------- 204.8/502.5 kB 1.6 MB/s eta 0:00:01\n",
            "   ---------------------- ----------------- 286.7/502.5 kB 1.5 MB/s eta 0:00:01\n",
            "   --------------------------- ------------ 348.2/502.5 kB 1.5 MB/s eta 0:00:01\n",
            "   ---------------------------------- ----- 430.1/502.5 kB 1.6 MB/s eta 0:00:01\n",
            "   ---------------------------------------  501.8/502.5 kB 1.6 MB/s eta 0:00:01\n",
            "   ---------------------------------------- 502.5/502.5 kB 1.5 MB/s eta 0:00:00\n",
            "Installing collected packages: pytz, tzdata, pandas\n",
            "Successfully installed pandas-2.1.3 pytz-2023.3.post1 tzdata-2023.3\n",
            "Note: you may need to restart the kernel to use updated packages.\n"
          ]
        }
      ],
      "source": [
        "%pip install pandas"
      ]
    },
    {
      "cell_type": "code",
      "execution_count": 2,
      "metadata": {
        "id": "TCEuSiqduwoS"
      },
      "outputs": [],
      "source": [
        "\n",
        "import numpy as np\n",
        "import pandas as pd\n",
        "from functools import reduce\n",
        "from pyspark.sql.functions import isnan, when, count, col\n",
        "import matplotlib.pyplot as plt\n",
        "from pyspark import SparkFiles\n",
        "from pyspark.ml.regression import LinearRegression\n",
        "from pyspark.ml.feature import VectorAssembler\n",
        "from pyspark.ml.evaluation import RegressionEvaluator\n",
        "\n",
        "\n"
      ]
    },
    {
      "cell_type": "markdown",
      "metadata": {
        "id": "yNkHsk-su4pl"
      },
      "source": [
        "### Spark session"
      ]
    },
    {
      "cell_type": "code",
      "execution_count": 3,
      "metadata": {
        "colab": {
          "base_uri": "https://localhost:8080/"
        },
        "id": "6xXUtC5Au239",
        "outputId": "1a742ebf-d3c8-40cd-8f82-4e470c0f7f2d"
      },
      "outputs": [
        {
          "name": "stdout",
          "output_type": "stream",
          "text": [
            "<pyspark.sql.session.SparkSession object at 0x0000016FB42075B0>\n"
          ]
        }
      ],
      "source": [
        "from pyspark import SparkConf, SparkContext\n",
        "from pyspark.sql import SparkSession, SQLContext\n",
        "\n",
        "spark = SparkSession.builder.master('local[*]').config(\"spark.driver.memory\", \"15g\").appName('TrafficAnalysis').getOrCreate()\n",
        "print(spark)"
      ]
    },
    {
      "cell_type": "code",
      "execution_count": 4,
      "metadata": {
        "colab": {
          "base_uri": "https://localhost:8080/"
        },
        "id": "HPX3zgjsvIMb",
        "outputId": "db2a5252-293d-485f-c3d3-01eaa3329605"
      },
      "outputs": [
        {
          "name": "stdout",
          "output_type": "stream",
          "text": [
            "root\n",
            " |-- Flow.ID: string (nullable = true)\n",
            " |-- Source.IP: string (nullable = true)\n",
            " |-- Source.Port: integer (nullable = true)\n",
            " |-- Destination.IP: string (nullable = true)\n",
            " |-- Destination.Port: integer (nullable = true)\n",
            " |-- Protocol: integer (nullable = true)\n",
            " |-- Timestamp: string (nullable = true)\n",
            " |-- Flow.Duration: integer (nullable = true)\n",
            " |-- Total.Fwd.Packets: integer (nullable = true)\n",
            " |-- Total.Backward.Packets: integer (nullable = true)\n",
            " |-- Total.Length.of.Fwd.Packets: integer (nullable = true)\n",
            " |-- Total.Length.of.Bwd.Packets: double (nullable = true)\n",
            " |-- Fwd.Packet.Length.Max: integer (nullable = true)\n",
            " |-- Fwd.Packet.Length.Min: integer (nullable = true)\n",
            " |-- Fwd.Packet.Length.Mean: double (nullable = true)\n",
            " |-- Fwd.Packet.Length.Std: double (nullable = true)\n",
            " |-- Bwd.Packet.Length.Max: integer (nullable = true)\n",
            " |-- Bwd.Packet.Length.Min: integer (nullable = true)\n",
            " |-- Bwd.Packet.Length.Mean: double (nullable = true)\n",
            " |-- Bwd.Packet.Length.Std: double (nullable = true)\n",
            " |-- Flow.Bytes.s: double (nullable = true)\n",
            " |-- Flow.Packets.s: double (nullable = true)\n",
            " |-- Flow.IAT.Mean: double (nullable = true)\n",
            " |-- Flow.IAT.Std: double (nullable = true)\n",
            " |-- Flow.IAT.Max: double (nullable = true)\n",
            " |-- Flow.IAT.Min: integer (nullable = true)\n",
            " |-- Fwd.IAT.Total: double (nullable = true)\n",
            " |-- Fwd.IAT.Mean: double (nullable = true)\n",
            " |-- Fwd.IAT.Std: double (nullable = true)\n",
            " |-- Fwd.IAT.Max: double (nullable = true)\n",
            " |-- Fwd.IAT.Min: double (nullable = true)\n",
            " |-- Bwd.IAT.Total: double (nullable = true)\n",
            " |-- Bwd.IAT.Mean: double (nullable = true)\n",
            " |-- Bwd.IAT.Std: double (nullable = true)\n",
            " |-- Bwd.IAT.Max: double (nullable = true)\n",
            " |-- Bwd.IAT.Min: double (nullable = true)\n",
            " |-- Fwd.PSH.Flags: integer (nullable = true)\n",
            " |-- Bwd.PSH.Flags: integer (nullable = true)\n",
            " |-- Fwd.URG.Flags: integer (nullable = true)\n",
            " |-- Bwd.URG.Flags: integer (nullable = true)\n",
            " |-- Fwd.Header.Length: integer (nullable = true)\n",
            " |-- Bwd.Header.Length: integer (nullable = true)\n",
            " |-- Fwd.Packets.s: double (nullable = true)\n",
            " |-- Bwd.Packets.s: double (nullable = true)\n",
            " |-- Min.Packet.Length: integer (nullable = true)\n",
            " |-- Max.Packet.Length: integer (nullable = true)\n",
            " |-- Packet.Length.Mean: double (nullable = true)\n",
            " |-- Packet.Length.Std: double (nullable = true)\n",
            " |-- Packet.Length.Variance: double (nullable = true)\n",
            " |-- FIN.Flag.Count: integer (nullable = true)\n",
            " |-- SYN.Flag.Count: integer (nullable = true)\n",
            " |-- RST.Flag.Count: integer (nullable = true)\n",
            " |-- PSH.Flag.Count: integer (nullable = true)\n",
            " |-- ACK.Flag.Count: integer (nullable = true)\n",
            " |-- URG.Flag.Count: integer (nullable = true)\n",
            " |-- CWE.Flag.Count: integer (nullable = true)\n",
            " |-- ECE.Flag.Count: integer (nullable = true)\n",
            " |-- Down.Up.Ratio: integer (nullable = true)\n",
            " |-- Average.Packet.Size: double (nullable = true)\n",
            " |-- Avg.Fwd.Segment.Size: double (nullable = true)\n",
            " |-- Avg.Bwd.Segment.Size: double (nullable = true)\n",
            " |-- Fwd.Header.Length.1: integer (nullable = true)\n",
            " |-- Fwd.Avg.Bytes.Bulk: integer (nullable = true)\n",
            " |-- Fwd.Avg.Packets.Bulk: integer (nullable = true)\n",
            " |-- Fwd.Avg.Bulk.Rate: integer (nullable = true)\n",
            " |-- Bwd.Avg.Bytes.Bulk: integer (nullable = true)\n",
            " |-- Bwd.Avg.Packets.Bulk: integer (nullable = true)\n",
            " |-- Bwd.Avg.Bulk.Rate: integer (nullable = true)\n",
            " |-- Subflow.Fwd.Packets: integer (nullable = true)\n",
            " |-- Subflow.Fwd.Bytes: integer (nullable = true)\n",
            " |-- Subflow.Bwd.Packets: integer (nullable = true)\n",
            " |-- Subflow.Bwd.Bytes: integer (nullable = true)\n",
            " |-- Init_Win_bytes_forward: integer (nullable = true)\n",
            " |-- Init_Win_bytes_backward: integer (nullable = true)\n",
            " |-- act_data_pkt_fwd: integer (nullable = true)\n",
            " |-- min_seg_size_forward: integer (nullable = true)\n",
            " |-- Active.Mean: double (nullable = true)\n",
            " |-- Active.Std: double (nullable = true)\n",
            " |-- Active.Max: double (nullable = true)\n",
            " |-- Active.Min: double (nullable = true)\n",
            " |-- Idle.Mean: double (nullable = true)\n",
            " |-- Idle.Std: double (nullable = true)\n",
            " |-- Idle.Max: double (nullable = true)\n",
            " |-- Idle.Min: double (nullable = true)\n",
            " |-- Label: string (nullable = true)\n",
            " |-- L7Protocol: integer (nullable = true)\n",
            " |-- ProtocolName: string (nullable = true)\n",
            "\n"
          ]
        }
      ],
      "source": [
        "data_path = \"Dataset-Unicauca-Version2-87Atts.csv\"\n",
        "traffic_df = spark.read.options(header='True',inferSchema='True') \\\n",
        "                    .csv(path=data_path)\n",
        "traffic_df.printSchema()"
      ]
    },
    {
      "cell_type": "markdown",
      "metadata": {
        "id": "LdBlmDGtvdyI"
      },
      "source": [
        "### Preprocessing"
      ]
    },
    {
      "cell_type": "code",
      "execution_count": 5,
      "metadata": {
        "colab": {
          "base_uri": "https://localhost:8080/"
        },
        "id": "fu4DRWOlvdeH",
        "outputId": "3dc014d7-63e0-4c33-db97-ec0227b96918"
      },
      "outputs": [
        {
          "name": "stdout",
          "output_type": "stream",
          "text": [
            "root\n",
            " |-- FLOW_ID: string (nullable = true)\n",
            " |-- SOURCE_IP: string (nullable = true)\n",
            " |-- SOURCE_PORT: integer (nullable = true)\n",
            " |-- DESTINATION_IP: string (nullable = true)\n",
            " |-- DESTINATION_PORT: integer (nullable = true)\n",
            " |-- PROTOCOL: integer (nullable = true)\n",
            " |-- TIMESTAMP: string (nullable = true)\n",
            " |-- FLOW_DURATION: integer (nullable = true)\n",
            " |-- TOTAL_FWD_PACKETS: integer (nullable = true)\n",
            " |-- TOTAL_BACKWARD_PACKETS: integer (nullable = true)\n",
            " |-- TOTAL_LENGTH_OF_FWD_PACKETS: integer (nullable = true)\n",
            " |-- TOTAL_LENGTH_OF_BWD_PACKETS: double (nullable = true)\n",
            " |-- FWD_PACKET_LENGTH_MAX: integer (nullable = true)\n",
            " |-- FWD_PACKET_LENGTH_MIN: integer (nullable = true)\n",
            " |-- FWD_PACKET_LENGTH_MEAN: double (nullable = true)\n",
            " |-- FWD_PACKET_LENGTH_STD: double (nullable = true)\n",
            " |-- BWD_PACKET_LENGTH_MAX: integer (nullable = true)\n",
            " |-- BWD_PACKET_LENGTH_MIN: integer (nullable = true)\n",
            " |-- BWD_PACKET_LENGTH_MEAN: double (nullable = true)\n",
            " |-- BWD_PACKET_LENGTH_STD: double (nullable = true)\n",
            " |-- FLOW_BYTES_S: double (nullable = true)\n",
            " |-- FLOW_PACKETS_S: double (nullable = true)\n",
            " |-- FLOW_IAT_MEAN: double (nullable = true)\n",
            " |-- FLOW_IAT_STD: double (nullable = true)\n",
            " |-- FLOW_IAT_MAX: double (nullable = true)\n",
            " |-- FLOW_IAT_MIN: integer (nullable = true)\n",
            " |-- FWD_IAT_TOTAL: double (nullable = true)\n",
            " |-- FWD_IAT_MEAN: double (nullable = true)\n",
            " |-- FWD_IAT_STD: double (nullable = true)\n",
            " |-- FWD_IAT_MAX: double (nullable = true)\n",
            " |-- FWD_IAT_MIN: double (nullable = true)\n",
            " |-- BWD_IAT_TOTAL: double (nullable = true)\n",
            " |-- BWD_IAT_MEAN: double (nullable = true)\n",
            " |-- BWD_IAT_STD: double (nullable = true)\n",
            " |-- BWD_IAT_MAX: double (nullable = true)\n",
            " |-- BWD_IAT_MIN: double (nullable = true)\n",
            " |-- FWD_PSH_FLAGS: integer (nullable = true)\n",
            " |-- BWD_PSH_FLAGS: integer (nullable = true)\n",
            " |-- FWD_URG_FLAGS: integer (nullable = true)\n",
            " |-- BWD_URG_FLAGS: integer (nullable = true)\n",
            " |-- FWD_HEADER_LENGTH: integer (nullable = true)\n",
            " |-- BWD_HEADER_LENGTH: integer (nullable = true)\n",
            " |-- FWD_PACKETS_S: double (nullable = true)\n",
            " |-- BWD_PACKETS_S: double (nullable = true)\n",
            " |-- MIN_PACKET_LENGTH: integer (nullable = true)\n",
            " |-- MAX_PACKET_LENGTH: integer (nullable = true)\n",
            " |-- PACKET_LENGTH_MEAN: double (nullable = true)\n",
            " |-- PACKET_LENGTH_STD: double (nullable = true)\n",
            " |-- PACKET_LENGTH_VARIANCE: double (nullable = true)\n",
            " |-- FIN_FLAG_COUNT: integer (nullable = true)\n",
            " |-- SYN_FLAG_COUNT: integer (nullable = true)\n",
            " |-- RST_FLAG_COUNT: integer (nullable = true)\n",
            " |-- PSH_FLAG_COUNT: integer (nullable = true)\n",
            " |-- ACK_FLAG_COUNT: integer (nullable = true)\n",
            " |-- URG_FLAG_COUNT: integer (nullable = true)\n",
            " |-- CWE_FLAG_COUNT: integer (nullable = true)\n",
            " |-- ECE_FLAG_COUNT: integer (nullable = true)\n",
            " |-- DOWN_UP_RATIO: integer (nullable = true)\n",
            " |-- AVERAGE_PACKET_SIZE: double (nullable = true)\n",
            " |-- AVG_FWD_SEGMENT_SIZE: double (nullable = true)\n",
            " |-- AVG_BWD_SEGMENT_SIZE: double (nullable = true)\n",
            " |-- FWD_HEADER_LENGTH_1: integer (nullable = true)\n",
            " |-- FWD_AVG_BYTES_BULK: integer (nullable = true)\n",
            " |-- FWD_AVG_PACKETS_BULK: integer (nullable = true)\n",
            " |-- FWD_AVG_BULK_RATE: integer (nullable = true)\n",
            " |-- BWD_AVG_BYTES_BULK: integer (nullable = true)\n",
            " |-- BWD_AVG_PACKETS_BULK: integer (nullable = true)\n",
            " |-- BWD_AVG_BULK_RATE: integer (nullable = true)\n",
            " |-- SUBFLOW_FWD_PACKETS: integer (nullable = true)\n",
            " |-- SUBFLOW_FWD_BYTES: integer (nullable = true)\n",
            " |-- SUBFLOW_BWD_PACKETS: integer (nullable = true)\n",
            " |-- SUBFLOW_BWD_BYTES: integer (nullable = true)\n",
            " |-- INIT_WIN_BYTES_FORWARD: integer (nullable = true)\n",
            " |-- INIT_WIN_BYTES_BACKWARD: integer (nullable = true)\n",
            " |-- ACT_DATA_PKT_FWD: integer (nullable = true)\n",
            " |-- MIN_SEG_SIZE_FORWARD: integer (nullable = true)\n",
            " |-- ACTIVE_MEAN: double (nullable = true)\n",
            " |-- ACTIVE_STD: double (nullable = true)\n",
            " |-- ACTIVE_MAX: double (nullable = true)\n",
            " |-- ACTIVE_MIN: double (nullable = true)\n",
            " |-- IDLE_MEAN: double (nullable = true)\n",
            " |-- IDLE_STD: double (nullable = true)\n",
            " |-- IDLE_MAX: double (nullable = true)\n",
            " |-- IDLE_MIN: double (nullable = true)\n",
            " |-- LABEL: string (nullable = true)\n",
            " |-- L7PROTOCOL: integer (nullable = true)\n",
            " |-- PROTOCOLNAME: string (nullable = true)\n",
            "\n"
          ]
        }
      ],
      "source": [
        "\n",
        "current_columns = traffic_df.columns\n",
        "\n",
        "\n",
        "final_df = traffic_df\n",
        "for c in current_columns:\n",
        "    new_col_name = c.replace(\" \", \"_\").replace(\".\", \"_\").upper().strip()\n",
        "    final_df = final_df.withColumnRenamed(c, new_col_name)\n",
        "\n",
        "\n",
        "final_df.printSchema()"
      ]
    },
    {
      "cell_type": "code",
      "execution_count": 6,
      "metadata": {
        "colab": {
          "base_uri": "https://localhost:8080/"
        },
        "id": "6BVH1Au0wF-U",
        "outputId": "72c090f7-e616-488f-97ab-40353e48e3b3"
      },
      "outputs": [
        {
          "data": {
            "text/plain": [
              "['FLOW_ID',\n",
              " 'SOURCE_IP',\n",
              " 'SOURCE_PORT',\n",
              " 'DESTINATION_IP',\n",
              " 'DESTINATION_PORT',\n",
              " 'PROTOCOL',\n",
              " 'TIMESTAMP',\n",
              " 'FLOW_DURATION',\n",
              " 'TOTAL_FWD_PACKETS',\n",
              " 'TOTAL_BACKWARD_PACKETS',\n",
              " 'TOTAL_LENGTH_OF_FWD_PACKETS',\n",
              " 'TOTAL_LENGTH_OF_BWD_PACKETS',\n",
              " 'FWD_PACKET_LENGTH_MAX',\n",
              " 'FWD_PACKET_LENGTH_MIN',\n",
              " 'FWD_PACKET_LENGTH_MEAN',\n",
              " 'FWD_PACKET_LENGTH_STD',\n",
              " 'BWD_PACKET_LENGTH_MAX',\n",
              " 'BWD_PACKET_LENGTH_MIN',\n",
              " 'BWD_PACKET_LENGTH_MEAN',\n",
              " 'BWD_PACKET_LENGTH_STD',\n",
              " 'FLOW_BYTES_S',\n",
              " 'FLOW_PACKETS_S',\n",
              " 'FLOW_IAT_MEAN',\n",
              " 'FLOW_IAT_STD',\n",
              " 'FLOW_IAT_MAX',\n",
              " 'FLOW_IAT_MIN',\n",
              " 'FWD_IAT_TOTAL',\n",
              " 'FWD_IAT_MEAN',\n",
              " 'FWD_IAT_STD',\n",
              " 'FWD_IAT_MAX',\n",
              " 'FWD_IAT_MIN',\n",
              " 'BWD_IAT_TOTAL',\n",
              " 'BWD_IAT_MEAN',\n",
              " 'BWD_IAT_STD',\n",
              " 'BWD_IAT_MAX',\n",
              " 'BWD_IAT_MIN',\n",
              " 'FWD_PSH_FLAGS',\n",
              " 'BWD_PSH_FLAGS',\n",
              " 'FWD_URG_FLAGS',\n",
              " 'BWD_URG_FLAGS',\n",
              " 'FWD_HEADER_LENGTH',\n",
              " 'BWD_HEADER_LENGTH',\n",
              " 'FWD_PACKETS_S',\n",
              " 'BWD_PACKETS_S',\n",
              " 'MIN_PACKET_LENGTH',\n",
              " 'MAX_PACKET_LENGTH',\n",
              " 'PACKET_LENGTH_MEAN',\n",
              " 'PACKET_LENGTH_STD',\n",
              " 'PACKET_LENGTH_VARIANCE',\n",
              " 'FIN_FLAG_COUNT',\n",
              " 'SYN_FLAG_COUNT',\n",
              " 'RST_FLAG_COUNT',\n",
              " 'PSH_FLAG_COUNT',\n",
              " 'ACK_FLAG_COUNT',\n",
              " 'URG_FLAG_COUNT',\n",
              " 'CWE_FLAG_COUNT',\n",
              " 'ECE_FLAG_COUNT',\n",
              " 'DOWN_UP_RATIO',\n",
              " 'AVERAGE_PACKET_SIZE',\n",
              " 'AVG_FWD_SEGMENT_SIZE',\n",
              " 'AVG_BWD_SEGMENT_SIZE',\n",
              " 'FWD_HEADER_LENGTH_1',\n",
              " 'FWD_AVG_BYTES_BULK',\n",
              " 'FWD_AVG_PACKETS_BULK',\n",
              " 'FWD_AVG_BULK_RATE',\n",
              " 'BWD_AVG_BYTES_BULK',\n",
              " 'BWD_AVG_PACKETS_BULK',\n",
              " 'BWD_AVG_BULK_RATE',\n",
              " 'SUBFLOW_FWD_PACKETS',\n",
              " 'SUBFLOW_FWD_BYTES',\n",
              " 'SUBFLOW_BWD_PACKETS',\n",
              " 'SUBFLOW_BWD_BYTES',\n",
              " 'INIT_WIN_BYTES_FORWARD',\n",
              " 'INIT_WIN_BYTES_BACKWARD',\n",
              " 'ACT_DATA_PKT_FWD',\n",
              " 'MIN_SEG_SIZE_FORWARD',\n",
              " 'ACTIVE_MEAN',\n",
              " 'ACTIVE_STD',\n",
              " 'ACTIVE_MAX',\n",
              " 'ACTIVE_MIN',\n",
              " 'IDLE_MEAN',\n",
              " 'IDLE_STD',\n",
              " 'IDLE_MAX',\n",
              " 'IDLE_MIN',\n",
              " 'LABEL',\n",
              " 'L7PROTOCOL',\n",
              " 'PROTOCOLNAME']"
            ]
          },
          "execution_count": 6,
          "metadata": {},
          "output_type": "execute_result"
        }
      ],
      "source": [
        "final_df.columns"
      ]
    },
    {
      "cell_type": "code",
      "execution_count": 7,
      "metadata": {
        "colab": {
          "base_uri": "https://localhost:8080/"
        },
        "id": "l72cW_Xmvvs5",
        "outputId": "8542eeec-90ba-468f-c201-db144311d17e"
      },
      "outputs": [
        {
          "data": {
            "text/plain": [
              "3577296"
            ]
          },
          "execution_count": 7,
          "metadata": {},
          "output_type": "execute_result"
        }
      ],
      "source": [
        "\n",
        "final_df.count()"
      ]
    },
    {
      "cell_type": "code",
      "execution_count": 8,
      "metadata": {
        "colab": {
          "base_uri": "https://localhost:8080/"
        },
        "id": "6Uwid7v3wI9V",
        "outputId": "09186d9b-4983-4bf7-ff82-1bb773b5c34c"
      },
      "outputs": [
        {
          "name": "stdout",
          "output_type": "stream",
          "text": [
            "+--------------------+-------------+-----------+--------------+----------------+--------+------------------+-------------+-----------------+----------------------+---------------------------+---------------------------+----------------+----------------+-------------------+------+------------+\n",
            "|             FLOW_ID|    SOURCE_IP|SOURCE_PORT|DESTINATION_IP|DESTINATION_PORT|PROTOCOL|         TIMESTAMP|FLOW_DURATION|TOTAL_FWD_PACKETS|TOTAL_BACKWARD_PACKETS|TOTAL_LENGTH_OF_FWD_PACKETS|TOTAL_LENGTH_OF_BWD_PACKETS|    FLOW_BYTES_S|  FLOW_PACKETS_S|AVERAGE_PACKET_SIZE| LABEL|PROTOCOLNAME|\n",
            "+--------------------+-------------+-----------+--------------+----------------+--------+------------------+-------------+-----------------+----------------------+---------------------------+---------------------------+----------------+----------------+-------------------+------+------------+\n",
            "|172.19.1.46-10.20...|  172.19.1.46|      52422|    10.200.7.7|            3128|       6|26/04/201711:11:17|        45523|               22|                    55|                        132|                   110414.0|2428354.89752433|1691.45267227555|   1435.74025974026|BENIGN|  HTTP_PROXY|\n",
            "|172.19.1.46-10.20...|   10.200.7.7|       3128|   172.19.1.46|           52422|       6|26/04/201711:11:17|            1|                2|                     0|                         12|                        0.0|           1.2E7|       2000000.0|                9.0|BENIGN|  HTTP_PROXY|\n",
            "|10.200.7.217-50.3...| 50.31.185.39|         80|  10.200.7.217|           38848|       6|26/04/201711:11:17|            1|                3|                     0|                        674|                        0.0|          6.74E8|       3000000.0|              337.0|BENIGN|        HTTP|\n",
            "|10.200.7.217-50.3...| 50.31.185.39|         80|  10.200.7.217|           38848|       6|26/04/201711:11:17|          217|                1|                     3|                          0|                        0.0|             0.0|18433.1797235023|                0.0|BENIGN|        HTTP|\n",
            "|192.168.72.43-10....|192.168.72.43|      55961|    10.200.7.7|            3128|       6|26/04/201711:11:17|        78068|                5|                     0|                       1076|                        0.0| 13782.855971717|64.0467284931086|              321.0|BENIGN|  HTTP_PROXY|\n",
            "|172.19.1.56-10.20...|   10.200.7.6|       3128|   172.19.1.56|           50004|       6|26/04/201711:11:17|       105069|              136|                     0|                     313554|                        0.0|2984267.48136939|1294.38749773958|   2316.27941176471|BENIGN|  HTTP_PROXY|\n",
            "|192.168.72.43-10....|192.168.72.43|      55963|    10.200.7.7|            3128|       6|26/04/201711:11:17|       104443|                5|                     0|                       1076|                        0.0|10302.2701377785|47.8730024989707|              321.0|BENIGN|  HTTP_PROXY|\n",
            "|192.168.10.47-10....|192.168.10.47|      51848|    10.200.7.6|            3128|       6|26/04/201711:11:17|        11002|                3|                    12|                        232|                     3664.0|354117.433193965|1363.38847482276|   259.733333333333|BENIGN|HTTP_CONNECT|\n",
            "|10.200.7.217-68.6...|68.67.178.197|        443|  10.200.7.217|           57300|       6|26/04/201711:11:17|       108503|               10|                     6|                       6904|                     1302.0|75629.2452743242|147.461360515377|              529.0|BENIGN|         SSL|\n",
            "|192.168.72.43-10....|192.168.72.43|      55977|    10.200.7.7|            3128|       6|26/04/201711:11:17|       118415|                7|                     0|                       2210|                        0.0|18663.1761178905|59.1141325001056|   315.714285714286|BENIGN|      GOOGLE|\n",
            "+--------------------+-------------+-----------+--------------+----------------+--------+------------------+-------------+-----------------+----------------------+---------------------------+---------------------------+----------------+----------------+-------------------+------+------------+\n",
            "only showing top 10 rows\n",
            "\n"
          ]
        }
      ],
      "source": [
        "# Feature selection\n",
        "\n",
        "sub_df = final_df.select('FLOW_ID',\n",
        " 'SOURCE_IP',\n",
        " 'SOURCE_PORT',\n",
        " 'DESTINATION_IP',\n",
        " 'DESTINATION_PORT',\n",
        " 'PROTOCOL',\n",
        " 'TIMESTAMP',\n",
        " 'FLOW_DURATION',\n",
        " 'TOTAL_FWD_PACKETS',\n",
        " 'TOTAL_BACKWARD_PACKETS',\n",
        " 'TOTAL_LENGTH_OF_FWD_PACKETS',\n",
        " 'TOTAL_LENGTH_OF_BWD_PACKETS',\n",
        " 'FLOW_BYTES_S',\n",
        " 'FLOW_PACKETS_S',\n",
        " 'AVERAGE_PACKET_SIZE',\n",
        " 'LABEL',\n",
        " 'PROTOCOLNAME')\n",
        "sub_df.show(10)"
      ]
    },
    {
      "cell_type": "code",
      "execution_count": 9,
      "metadata": {
        "colab": {
          "base_uri": "https://localhost:8080/"
        },
        "id": "-vsov_FzwhTB",
        "outputId": "0ea9b660-ddbd-4641-df64-c5a242dd7721"
      },
      "outputs": [
        {
          "name": "stdout",
          "output_type": "stream",
          "text": [
            "+-------------+------+\n",
            "| PROTOCOLNAME| count|\n",
            "+-------------+------+\n",
            "|      TWITTER| 18259|\n",
            "|          DNS|  1695|\n",
            "|          MSN| 14478|\n",
            "| HTTP_CONNECT|317526|\n",
            "|       TWITCH|    24|\n",
            "|          SSH|   102|\n",
            "|HTTP_DOWNLOAD|   516|\n",
            "|         MQTT|   302|\n",
            "|    INSTAGRAM|  2415|\n",
            "|   OPENSIGNAL|     9|\n",
            "|     WHATSAPP|  4593|\n",
            "|    MICROSOFT| 54710|\n",
            "| MS_ONE_DRIVE|  1748|\n",
            "| APPLE_ITUNES|  1287|\n",
            "|      SPOTIFY|  1269|\n",
            "|   OFFICE_365|  5941|\n",
            "|CONTENT_FLASH|  8589|\n",
            "|        GMAIL| 40260|\n",
            "|        APPLE|  7615|\n",
            "|        SKYPE| 30657|\n",
            "+-------------+------+\n",
            "only showing top 20 rows\n",
            "\n"
          ]
        }
      ],
      "source": [
        "\n",
        "sub_df.groupBy(\"PROTOCOLNAME\").count().show()"
      ]
    },
    {
      "cell_type": "code",
      "execution_count": 10,
      "metadata": {
        "colab": {
          "base_uri": "https://localhost:8080/"
        },
        "id": "MVNxV1TCwq-G",
        "outputId": "54dc7f6d-1ce4-4f61-944e-b2393780728c"
      },
      "outputs": [
        {
          "name": "stdout",
          "output_type": "stream",
          "text": [
            "+-------+--------------------+\n",
            "|summary|       FLOW_DURATION|\n",
            "+-------+--------------------+\n",
            "|  count|             3577296|\n",
            "|   mean|2.5442465812041834E7|\n",
            "| stddev|  4.01443005446156E7|\n",
            "|    min|                   1|\n",
            "|    max|           120000000|\n",
            "+-------+--------------------+\n",
            "\n"
          ]
        }
      ],
      "source": [
        "\n",
        "sub_df.select('FLOW_DURATION').describe().show()"
      ]
    },
    {
      "cell_type": "code",
      "execution_count": 11,
      "metadata": {
        "colab": {
          "base_uri": "https://localhost:8080/"
        },
        "id": "IJxjodhZwvL4",
        "outputId": "5282c6cc-cce3-4e3d-8e3e-a50d9ac10247"
      },
      "outputs": [
        {
          "name": "stdout",
          "output_type": "stream",
          "text": [
            "+-------+---------+-----------+--------------+----------------+--------+---------+-------------+-----------------+----------------------+---------------------------+---------------------------+------------+--------------+-------------------+-----+------------+\n",
            "|FLOW_ID|SOURCE_IP|SOURCE_PORT|DESTINATION_IP|DESTINATION_PORT|PROTOCOL|TIMESTAMP|FLOW_DURATION|TOTAL_FWD_PACKETS|TOTAL_BACKWARD_PACKETS|TOTAL_LENGTH_OF_FWD_PACKETS|TOTAL_LENGTH_OF_BWD_PACKETS|FLOW_BYTES_S|FLOW_PACKETS_S|AVERAGE_PACKET_SIZE|LABEL|PROTOCOLNAME|\n",
            "+-------+---------+-----------+--------------+----------------+--------+---------+-------------+-----------------+----------------------+---------------------------+---------------------------+------------+--------------+-------------------+-----+------------+\n",
            "|      0|        0|          0|             0|               0|       0|        0|            0|                0|                     0|                          0|                          0|           0|             0|                  0|    0|           0|\n",
            "+-------+---------+-----------+--------------+----------------+--------+---------+-------------+-----------------+----------------------+---------------------------+---------------------------+------------+--------------+-------------------+-----+------------+\n",
            "\n"
          ]
        }
      ],
      "source": [
        "\n",
        "sub_df.select([count(when(isnan(c), c)).alias(c) for c in sub_df.columns]).show()"
      ]
    },
    {
      "cell_type": "code",
      "execution_count": 12,
      "metadata": {
        "colab": {
          "base_uri": "https://localhost:8080/"
        },
        "id": "TbJHCn0nw2EU",
        "outputId": "07e4f040-2cb5-4308-be1a-3728095e93d6"
      },
      "outputs": [
        {
          "data": {
            "text/plain": [
              "[Row(PROTOCOLNAME='TWITTER'),\n",
              " Row(PROTOCOLNAME='DNS'),\n",
              " Row(PROTOCOLNAME='MSN'),\n",
              " Row(PROTOCOLNAME='HTTP_CONNECT'),\n",
              " Row(PROTOCOLNAME='TWITCH'),\n",
              " Row(PROTOCOLNAME='SSH'),\n",
              " Row(PROTOCOLNAME='HTTP_DOWNLOAD'),\n",
              " Row(PROTOCOLNAME='MQTT'),\n",
              " Row(PROTOCOLNAME='INSTAGRAM'),\n",
              " Row(PROTOCOLNAME='OPENSIGNAL'),\n",
              " Row(PROTOCOLNAME='WHATSAPP'),\n",
              " Row(PROTOCOLNAME='MICROSOFT'),\n",
              " Row(PROTOCOLNAME='MS_ONE_DRIVE'),\n",
              " Row(PROTOCOLNAME='APPLE_ITUNES'),\n",
              " Row(PROTOCOLNAME='SPOTIFY'),\n",
              " Row(PROTOCOLNAME='OFFICE_365'),\n",
              " Row(PROTOCOLNAME='CONTENT_FLASH'),\n",
              " Row(PROTOCOLNAME='GMAIL'),\n",
              " Row(PROTOCOLNAME='APPLE'),\n",
              " Row(PROTOCOLNAME='SKYPE'),\n",
              " Row(PROTOCOLNAME='TOR'),\n",
              " Row(PROTOCOLNAME='YAHOO'),\n",
              " Row(PROTOCOLNAME='FACEBOOK'),\n",
              " Row(PROTOCOLNAME='TEAMVIEWER'),\n",
              " Row(PROTOCOLNAME='MAIL_IMAPS'),\n",
              " Row(PROTOCOLNAME='WIKIPEDIA'),\n",
              " Row(PROTOCOLNAME='NETFLIX'),\n",
              " Row(PROTOCOLNAME='SSL_NO_CERT'),\n",
              " Row(PROTOCOLNAME='APPLE_ICLOUD'),\n",
              " Row(PROTOCOLNAME='NTP'),\n",
              " Row(PROTOCOLNAME='UBUNTUONE'),\n",
              " Row(PROTOCOLNAME='WINDOWS_UPDATE'),\n",
              " Row(PROTOCOLNAME='EASYTAXI'),\n",
              " Row(PROTOCOLNAME='IP_ICMP'),\n",
              " Row(PROTOCOLNAME='CLOUDFLARE'),\n",
              " Row(PROTOCOLNAME='EBAY'),\n",
              " Row(PROTOCOLNAME='YOUTUBE'),\n",
              " Row(PROTOCOLNAME='HTTP_PROXY'),\n",
              " Row(PROTOCOLNAME='MSSQL'),\n",
              " Row(PROTOCOLNAME='DROPBOX'),\n",
              " Row(PROTOCOLNAME='SSL'),\n",
              " Row(PROTOCOLNAME='CITRIX'),\n",
              " Row(PROTOCOLNAME='GOOGLE_MAPS'),\n",
              " Row(PROTOCOLNAME='GOOGLE'),\n",
              " Row(PROTOCOLNAME='AMAZON'),\n",
              " Row(PROTOCOLNAME='HTTP'),\n",
              " Row(PROTOCOLNAME='FTP_DATA'),\n",
              " Row(PROTOCOLNAME='SIMET'),\n",
              " Row(PROTOCOLNAME='OSCAR'),\n",
              " Row(PROTOCOLNAME='UPNP'),\n",
              " Row(PROTOCOLNAME='UNENCRYPED_JABBER'),\n",
              " Row(PROTOCOLNAME='WAZE'),\n",
              " Row(PROTOCOLNAME='EDONKEY'),\n",
              " Row(PROTOCOLNAME='SKINNY'),\n",
              " Row(PROTOCOLNAME='STARCRAFT'),\n",
              " Row(PROTOCOLNAME='ORACLE'),\n",
              " Row(PROTOCOLNAME='DEEZER'),\n",
              " Row(PROTOCOLNAME='OPENVPN'),\n",
              " Row(PROTOCOLNAME='WHOIS_DAS'),\n",
              " Row(PROTOCOLNAME='NFS'),\n",
              " Row(PROTOCOLNAME='RTMP'),\n",
              " Row(PROTOCOLNAME='TEAMSPEAK'),\n",
              " Row(PROTOCOLNAME='99TAXI'),\n",
              " Row(PROTOCOLNAME='SNMP'),\n",
              " Row(PROTOCOLNAME='QQ'),\n",
              " Row(PROTOCOLNAME='TELEGRAM'),\n",
              " Row(PROTOCOLNAME='FTP_CONTROL'),\n",
              " Row(PROTOCOLNAME='LOTUS_NOTES'),\n",
              " Row(PROTOCOLNAME='H323'),\n",
              " Row(PROTOCOLNAME='LASTFM'),\n",
              " Row(PROTOCOLNAME='CITRIX_ONLINE'),\n",
              " Row(PROTOCOLNAME='BGP'),\n",
              " Row(PROTOCOLNAME='CNN'),\n",
              " Row(PROTOCOLNAME='IP_OSPF'),\n",
              " Row(PROTOCOLNAME='RADIUS'),\n",
              " Row(PROTOCOLNAME='SOCKS'),\n",
              " Row(PROTOCOLNAME='BITTORRENT'),\n",
              " Row(PROTOCOLNAME='TIMMEU')]"
            ]
          },
          "execution_count": 12,
          "metadata": {},
          "output_type": "execute_result"
        }
      ],
      "source": [
        "\n",
        "sub_df.select('PROTOCOLNAME').distinct().collect()"
      ]
    },
    {
      "cell_type": "code",
      "execution_count": 13,
      "metadata": {
        "colab": {
          "base_uri": "https://localhost:8080/"
        },
        "id": "NfAn5saAw_VY",
        "outputId": "3e62d390-f5d2-4e32-c2e9-679faf5c5e27"
      },
      "outputs": [
        {
          "name": "stdout",
          "output_type": "stream",
          "text": [
            "+--------------------+-------------+-----------+--------------+----------------+--------+------------------+-------------+-----------------+----------------------+---------------------------+---------------------------+----------------+----------------+-------------------+------+------------+\n",
            "|             FLOW_ID|    SOURCE_IP|SOURCE_PORT|DESTINATION_IP|DESTINATION_PORT|PROTOCOL|         TIMESTAMP|FLOW_DURATION|TOTAL_FWD_PACKETS|TOTAL_BACKWARD_PACKETS|TOTAL_LENGTH_OF_FWD_PACKETS|TOTAL_LENGTH_OF_BWD_PACKETS|    FLOW_BYTES_S|  FLOW_PACKETS_S|AVERAGE_PACKET_SIZE| LABEL|PROTOCOLNAME|\n",
            "+--------------------+-------------+-----------+--------------+----------------+--------+------------------+-------------+-----------------+----------------------+---------------------------+---------------------------+----------------+----------------+-------------------+------+------------+\n",
            "|157.240.0.22-10.2...| 10.200.7.217|      53809|  157.240.0.22|             443|       6|26/04/201711:11:18|            1|                2|                     0|                          0|                        0.0|             0.0|       2000000.0|                0.0|BENIGN|    FACEBOOK|\n",
            "|192.168.151.4-10....|192.168.151.4|      51444|    10.200.7.5|            3128|       6|26/04/201711:11:19|        14276|                5|                    17|                        233|                     8900.0|  639745.0266181|1541.04791258055|   415.136363636364|BENIGN|    FACEBOOK|\n",
            "|192.168.151.4-10....|192.168.151.4|      51443|    10.200.7.5|            3128|       6|26/04/201711:11:19|        15072|                5|                    16|                        233|                     8900.0|605958.067940552|1393.31210191083|   434.904761904762|BENIGN|    FACEBOOK|\n",
            "|192.168.151.4-10....|192.168.151.4|      51445|    10.200.7.5|            3128|       6|26/04/201711:11:20|         3703|                5|                    16|                        233|                     8900.0|2466378.61193627| 5671.0775047259|   434.904761904762|BENIGN|    FACEBOOK|\n",
            "|157.240.0.22-10.2...| 10.200.7.217|      53809|  157.240.0.22|             443|       6|26/04/201711:11:22|            1|                2|                     0|                          0|                        0.0|             0.0|       2000000.0|                0.0|BENIGN|    FACEBOOK|\n",
            "+--------------------+-------------+-----------+--------------+----------------+--------+------------------+-------------+-----------------+----------------------+---------------------------+---------------------------+----------------+----------------+-------------------+------+------------+\n",
            "only showing top 5 rows\n",
            "\n"
          ]
        }
      ],
      "source": [
        "socialMedias = ['TWITTER','INSTAGRAM','FACEBOOK']\n",
        "\n",
        "records = sub_df.filter(sub_df.PROTOCOLNAME.isin(socialMedias))\n",
        "\n",
        "records.show(5)"
      ]
    },
    {
      "cell_type": "markdown",
      "metadata": {
        "id": "PUGfK7QvxdA6"
      },
      "source": [
        "### Data Visualizations & Analysis"
      ]
    },
    {
      "cell_type": "code",
      "execution_count": 14,
      "metadata": {
        "colab": {
          "base_uri": "https://localhost:8080/",
          "height": 405
        },
        "id": "6UVi8OMvxmrn",
        "outputId": "bdb01365-c582-41b4-9a71-5624d9e332b1"
      },
      "outputs": [
        {
          "data": {
            "text/plain": [
              "<Axes: xlabel='PROTOCOLNAME', ylabel='count'>"
            ]
          },
          "execution_count": 14,
          "metadata": {},
          "output_type": "execute_result"
        },
        {
          "data": {
            "image/png": "[encoded data removed]",
            "text/plain": [
              "<Figure size 1000x400 with 1 Axes>"
            ]
          },
          "metadata": {},
          "output_type": "display_data"
        }
      ],
      "source": [
        "# %pip install seaborn\n",
        "\n",
        "records_df = records.toPandas()\n",
        "records_df['TIMESTAMP'] = pd.to_datetime(records_df['TIMESTAMP'],format= '%d/%m/%Y%H:%M:%S' )\n",
        "\n",
        "# bar plot\n",
        "import seaborn as sns\n",
        "plt.figure(figsize=(10,4))\n",
        "sns.countplot(x = 'PROTOCOLNAME', data = records_df)"
      ]
    },
    {
      "cell_type": "code",
      "execution_count": 15,
      "metadata": {
        "colab": {
          "base_uri": "https://localhost:8080/",
          "height": 542
        },
        "id": "pYkIeY-ByHET",
        "outputId": "60521fa9-f116-4408-b73c-398dd9880630"
      },
      "outputs": [
        {
          "data": {
            "image/png": "[encoded data removed]",
            "text/plain": [
              "<Figure size 1000x600 with 1 Axes>"
            ]
          },
          "metadata": {},
          "output_type": "display_data"
        }
      ],
      "source": [
        "import matplotlib.pyplot as plt\n",
        "\n",
        "\n",
        "\n",
        "\n",
        "filtered_df = records_df[records_df['PROTOCOLNAME'] == 'FACEBOOK']\n",
        "\n",
        "\n",
        "plt.figure(figsize=(10, 6))\n",
        "plt.plot(filtered_df['TIMESTAMP'], filtered_df['AVERAGE_PACKET_SIZE'], label='Average Packet Size')\n",
        "\n",
        "\n",
        "plt.title('Average Packet Size vs Time')\n",
        "plt.xlabel('Time')\n",
        "plt.ylabel('Average Packet Size')\n",
        "plt.legend()\n",
        "\n",
        "\n",
        "\n",
        "plt.show()\n"
      ]
    },
    {
      "cell_type": "markdown",
      "metadata": {
        "id": "VYFNvpy_yLTl"
      },
      "source": [
        "### Training"
      ]
    },
    {
      "cell_type": "code",
      "execution_count": 16,
      "metadata": {
        "id": "ffdA1INxyQrX"
      },
      "outputs": [],
      "source": [
        "from pyspark.ml.feature import StringIndexer, VectorAssembler\n",
        "from pyspark.ml.classification import LogisticRegression,\\\n",
        "                    RandomForestClassifier,  DecisionTreeClassifier\n",
        "from pyspark.ml.evaluation import MulticlassClassificationEvaluator\n",
        "from pyspark.ml import Pipeline\n",
        "from pyspark.ml.tuning import CrossValidator, ParamGridBuilder\n",
        "\n"
      ]
    },
    {
      "cell_type": "code",
      "execution_count": 17,
      "metadata": {
        "id": "mN8F1HHsNPB9"
      },
      "outputs": [],
      "source": [
        "drop_list =['FLOW_ID',\n",
        " 'SOURCE_IP',\n",
        " 'SOURCE_PORT',\n",
        " 'DESTINATION_IP',\n",
        " 'DESTINATION_PORT',\n",
        " 'PROTOCOL',\n",
        " 'TIMESTAMP',\n",
        " 'LABEL'\n",
        " ]\n",
        "records__df = records.select([column for column in records.columns if column not in drop_list])"
      ]
    },
    {
      "cell_type": "code",
      "execution_count": 18,
      "metadata": {
        "colab": {
          "base_uri": "https://localhost:8080/"
        },
        "id": "VdwhMtqGLvUv",
        "outputId": "079b065b-0bed-40c4-ca1c-2170270fd83c"
      },
      "outputs": [
        {
          "data": {
            "text/plain": [
              "['FLOW_DURATION',\n",
              " 'TOTAL_FWD_PACKETS',\n",
              " 'TOTAL_BACKWARD_PACKETS',\n",
              " 'TOTAL_LENGTH_OF_FWD_PACKETS',\n",
              " 'TOTAL_LENGTH_OF_BWD_PACKETS',\n",
              " 'FLOW_BYTES_S',\n",
              " 'FLOW_PACKETS_S',\n",
              " 'AVERAGE_PACKET_SIZE',\n",
              " 'PROTOCOLNAME']"
            ]
          },
          "execution_count": 18,
          "metadata": {},
          "output_type": "execute_result"
        }
      ],
      "source": [
        "records__df.columns"
      ]
    },
    {
      "cell_type": "code",
      "execution_count": 19,
      "metadata": {},
      "outputs": [
        {
          "name": "stdout",
          "output_type": "stream",
          "text": [
            "+------------+\n",
            "|PROTOCOLNAME|\n",
            "+------------+\n",
            "|     TWITTER|\n",
            "|   INSTAGRAM|\n",
            "|    FACEBOOK|\n",
            "+------------+\n",
            "\n"
          ]
        }
      ],
      "source": [
        "\n",
        "distinct_values = records__df.select('PROTOCOLNAME').distinct()\n",
        "\n",
        "distinct_values.show()"
      ]
    },
    {
      "cell_type": "code",
      "execution_count": 20,
      "metadata": {
        "colab": {
          "base_uri": "https://localhost:8080/"
        },
        "id": "zGMzKDdxRJwW",
        "outputId": "2c3a0a11-50a3-4ae2-b588-b7538ae3a824"
      },
      "outputs": [
        {
          "name": "stdout",
          "output_type": "stream",
          "text": [
            "+-------------+-----------------+----------------------+---------------------------+---------------------------+----------------+----------------+-------------------+------------+\n",
            "|FLOW_DURATION|TOTAL_FWD_PACKETS|TOTAL_BACKWARD_PACKETS|TOTAL_LENGTH_OF_FWD_PACKETS|TOTAL_LENGTH_OF_BWD_PACKETS|    FLOW_BYTES_S|  FLOW_PACKETS_S|AVERAGE_PACKET_SIZE|PROTOCOLNAME|\n",
            "+-------------+-----------------+----------------------+---------------------------+---------------------------+----------------+----------------+-------------------+------------+\n",
            "|            1|                2|                     0|                          0|                        0.0|             0.0|       2000000.0|                0.0|         0.0|\n",
            "|        14276|                5|                    17|                        233|                     8900.0|  639745.0266181|1541.04791258055|   415.136363636364|         0.0|\n",
            "|        15072|                5|                    16|                        233|                     8900.0|605958.067940552|1393.31210191083|   434.904761904762|         0.0|\n",
            "|         3703|                5|                    16|                        233|                     8900.0|2466378.61193627| 5671.0775047259|   434.904761904762|         0.0|\n",
            "|            1|                2|                     0|                          0|                        0.0|             0.0|       2000000.0|                0.0|         0.0|\n",
            "+-------------+-----------------+----------------------+---------------------------+---------------------------+----------------+----------------+-------------------+------------+\n",
            "only showing top 5 rows\n",
            "\n"
          ]
        }
      ],
      "source": [
        "\n",
        "stringIndexer = StringIndexer(inputCol=\"PROTOCOLNAME\", outputCol=\"PROTOCOL_INDEX\")\n",
        "\n",
        "\n",
        "records__df = stringIndexer.fit(records__df).transform(records__df)\n",
        "\n",
        "\n",
        "records__df = records__df.drop(\"PROTOCOLNAME\")\n",
        "\n",
        "\n",
        "records__df = records__df.withColumnRenamed(\"PROTOCOL_INDEX\", \"PROTOCOLNAME\")\n",
        "\n",
        "records__df.show(5)\n"
      ]
    },
    {
      "cell_type": "code",
      "execution_count": 21,
      "metadata": {
        "colab": {
          "base_uri": "https://localhost:8080/"
        },
        "id": "bf_lUZoGR2Q6",
        "outputId": "7ad193cf-c412-41ef-d3be-9418c660613f"
      },
      "outputs": [
        {
          "name": "stdout",
          "output_type": "stream",
          "text": [
            "+------------+\n",
            "|PROTOCOLNAME|\n",
            "+------------+\n",
            "|         0.0|\n",
            "|         1.0|\n",
            "|         2.0|\n",
            "+------------+\n",
            "\n"
          ]
        }
      ],
      "source": [
        "\n",
        "distinct_values = records__df.select('PROTOCOLNAME').distinct()\n",
        "\n",
        "distinct_values.show()"
      ]
    },
    {
      "cell_type": "code",
      "execution_count": 22,
      "metadata": {
        "colab": {
          "base_uri": "https://localhost:8080/"
        },
        "id": "Bva_OXBmJvKF",
        "outputId": "84426476-3707-4373-dc75-bc397628d655"
      },
      "outputs": [
        {
          "name": "stdout",
          "output_type": "stream",
          "text": [
            "+----------------------------------------------------------------------------------+------------+\n",
            "|features                                                                          |PROTOCOLNAME|\n",
            "+----------------------------------------------------------------------------------+------------+\n",
            "|(8,[0,1,6],[1.0,2.0,2000000.0])                                                   |0.0         |\n",
            "|[14276.0,5.0,17.0,233.0,8900.0,639745.0266181,1541.04791258055,415.136363636364]  |0.0         |\n",
            "|[15072.0,5.0,16.0,233.0,8900.0,605958.067940552,1393.31210191083,434.904761904762]|0.0         |\n",
            "|[3703.0,5.0,16.0,233.0,8900.0,2466378.61193627,5671.0775047259,434.904761904762]  |0.0         |\n",
            "+----------------------------------------------------------------------------------+------------+\n",
            "only showing top 4 rows\n",
            "\n"
          ]
        }
      ],
      "source": [
        "vec_asmbl = VectorAssembler(inputCols=['FLOW_DURATION',\n",
        " 'TOTAL_FWD_PACKETS',\n",
        " 'TOTAL_BACKWARD_PACKETS',\n",
        " 'TOTAL_LENGTH_OF_FWD_PACKETS',\n",
        " 'TOTAL_LENGTH_OF_BWD_PACKETS',\n",
        " 'FLOW_BYTES_S',\n",
        " 'FLOW_PACKETS_S',\n",
        " 'AVERAGE_PACKET_SIZE'],\n",
        "                           outputCol='features')\n",
        "\n",
        "records__df = vec_asmbl.transform(records__df).select('features','PROTOCOLNAME')\n",
        "records__df.show(4, truncate=False)"
      ]
    },
    {
      "cell_type": "code",
      "execution_count": 23,
      "metadata": {
        "id": "QlaKb0CeyU5C"
      },
      "outputs": [],
      "source": [
        "\n",
        "train_df, valid_df = records__df.randomSplit([0.8, 0.2])"
      ]
    },
    {
      "cell_type": "code",
      "execution_count": 25,
      "metadata": {},
      "outputs": [],
      "source": [
        "\n",
        "\n",
        "def evaluate_model(model,pred):\n",
        "    evaluator = MulticlassClassificationEvaluator(labelCol='PROTOCOLNAME',\n",
        "                                          metricName='accuracy')\n",
        "    accuracy = evaluator.evaluate(pred)\n",
        "    print(f\"Accuracy of {model} is {accuracy}\")\n",
        "\n",
        "    #precison\n",
        "    evaluator = MulticlassClassificationEvaluator(labelCol='PROTOCOLNAME',\n",
        "                                              metricName='weightedPrecision')\n",
        "    precision = evaluator.evaluate(pred)\n",
        "    print(f\"Precision of {model} is {precision}\")\n",
        "    \n",
        "    #recall\n",
        "\n",
        "    evaluator = MulticlassClassificationEvaluator(labelCol='PROTOCOLNAME',\n",
        "                                                metricName='weightedRecall')\n",
        "    \n",
        "    recall = evaluator.evaluate(pred)\n",
        "    print(f\"Recall of {model} is {recall}\")\n",
        "\n",
        "    #f1 score\n",
        "\n",
        "    evaluator = MulticlassClassificationEvaluator(labelCol='PROTOCOLNAME',\n",
        "                                                metricName='f1')\n",
        "    f1 = evaluator.evaluate(pred)\n",
        "    print(f\"F1 score of {model} is {f1}\")\n",
        "\n",
        "    return accuracy, precision, recall, f1"
      ]
    },
    {
      "cell_type": "code",
      "execution_count": 26,
      "metadata": {
        "colab": {
          "base_uri": "https://localhost:8080/"
        },
        "id": "mfLFadeeycV-",
        "outputId": "a9444e41-745c-4cfc-da8c-24701ec0b5de"
      },
      "outputs": [
        {
          "name": "stdout",
          "output_type": "stream",
          "text": [
            "Accuracy of LogisticRegressionModel: uid=LogisticRegression_ecfeb8e8cda6, numClasses=3, numFeatures=8 is 0.6455238859895625\n",
            "Precision of LogisticRegressionModel: uid=LogisticRegression_ecfeb8e8cda6, numClasses=3, numFeatures=8 is 0.638162741951317\n",
            "Recall of LogisticRegressionModel: uid=LogisticRegression_ecfeb8e8cda6, numClasses=3, numFeatures=8 is 0.6455238859895625\n",
            "F1 score of LogisticRegressionModel: uid=LogisticRegression_ecfeb8e8cda6, numClasses=3, numFeatures=8 is 0.5736117062335389\n"
          ]
        },
        {
          "data": {
            "text/plain": [
              "(0.6455238859895625, 0.638162741951317, 0.6455238859895625, 0.5736117062335389)"
            ]
          },
          "execution_count": 26,
          "metadata": {},
          "output_type": "execute_result"
        }
      ],
      "source": [
        "#Ridge Regression model\n",
        "ridge = LogisticRegression(labelCol='PROTOCOLNAME',\n",
        "                        maxIter=100,\n",
        "                        elasticNetParam=0,\n",
        "                        regParam=0.03,family='multinomial')\n",
        "\n",
        "ridge_model = ridge.fit(train_df)\n",
        "ridge_pred = ridge_model.transform(valid_df)\n",
        "evaluate_model(ridge_model,ridge_pred)\n"
      ]
    },
    {
      "cell_type": "code",
      "execution_count": 27,
      "metadata": {
        "colab": {
          "base_uri": "https://localhost:8080/"
        },
        "id": "2qANYRR-ZjNa",
        "outputId": "04ab0445-fb36-49f5-98eb-eee069fd17f0"
      },
      "outputs": [
        {
          "name": "stdout",
          "output_type": "stream",
          "text": [
            "Accuracy of LogisticRegressionModel: uid=LogisticRegression_180f32a6a823, numClasses=3, numFeatures=8 is 0.6693095142513047\n",
            "Precision of LogisticRegressionModel: uid=LogisticRegression_180f32a6a823, numClasses=3, numFeatures=8 is 0.6693038281987518\n",
            "Recall of LogisticRegressionModel: uid=LogisticRegression_180f32a6a823, numClasses=3, numFeatures=8 is 0.6693095142513047\n",
            "F1 score of LogisticRegressionModel: uid=LogisticRegression_180f32a6a823, numClasses=3, numFeatures=8 is 0.6084776289716662\n"
          ]
        },
        {
          "data": {
            "text/plain": [
              "(0.6693095142513047,\n",
              " 0.6693038281987518,\n",
              " 0.6693095142513047,\n",
              " 0.6084776289716662)"
            ]
          },
          "execution_count": 27,
          "metadata": {},
          "output_type": "execute_result"
        }
      ],
      "source": [
        "#Lasso Regression model\n",
        "lasso = LogisticRegression(labelCol='PROTOCOLNAME',\n",
        "                           maxIter=100,\n",
        "                           elasticNetParam=1,\n",
        "                           regParam=0.0003,family='multinomial')\n",
        "\n",
        "lasso_model = lasso.fit(train_df)\n",
        "lasso_pred = lasso_model.transform(valid_df)\n",
        "evaluate_model(lasso_model,lasso_pred)"
      ]
    },
    {
      "cell_type": "code",
      "execution_count": 28,
      "metadata": {
        "colab": {
          "base_uri": "https://localhost:8080/"
        },
        "id": "OgKcswFT4O8W",
        "outputId": "37dbaab2-0422-459a-dd45-ee29a8d6639b"
      },
      "outputs": [
        {
          "name": "stdout",
          "output_type": "stream",
          "text": [
            "Accuracy of RandomForestClassificationModel: uid=RandomForestClassifier_6c5d9f8bc93d, numTrees=100, numClasses=3, numFeatures=8 is 0.758129265355279\n",
            "Precision of RandomForestClassificationModel: uid=RandomForestClassifier_6c5d9f8bc93d, numTrees=100, numClasses=3, numFeatures=8 is 0.7309262715881449\n",
            "Recall of RandomForestClassificationModel: uid=RandomForestClassifier_6c5d9f8bc93d, numTrees=100, numClasses=3, numFeatures=8 is 0.7581292653552789\n",
            "F1 score of RandomForestClassificationModel: uid=RandomForestClassifier_6c5d9f8bc93d, numTrees=100, numClasses=3, numFeatures=8 is 0.7315268456648572\n"
          ]
        },
        {
          "data": {
            "text/plain": [
              "(0.758129265355279, 0.7309262715881449, 0.7581292653552789, 0.7315268456648572)"
            ]
          },
          "execution_count": 28,
          "metadata": {},
          "output_type": "execute_result"
        }
      ],
      "source": [
        "#Random Forest Classifier Model\n",
        "rf = RandomForestClassifier(labelCol='PROTOCOLNAME',\n",
        "                           numTrees=100, maxDepth=3)\n",
        "\n",
        "rf_model = rf.fit(train_df)\n",
        "rf_pred = rf_model.transform(valid_df)\n",
        "evaluate_model(rf_model,rf_pred)"
      ]
    },
    {
      "cell_type": "code",
      "execution_count": 29,
      "metadata": {},
      "outputs": [
        {
          "name": "stdout",
          "output_type": "stream",
          "text": [
            "Accuracy of DecisionTreeClassificationModel: uid=DecisionTreeClassifier_e14e20f68c8a, depth=5, numNodes=53, numClasses=3, numFeatures=8 is 0.8047972701726215\n",
            "Precision of DecisionTreeClassificationModel: uid=DecisionTreeClassifier_e14e20f68c8a, depth=5, numNodes=53, numClasses=3, numFeatures=8 is 0.809275365961424\n",
            "Recall of DecisionTreeClassificationModel: uid=DecisionTreeClassifier_e14e20f68c8a, depth=5, numNodes=53, numClasses=3, numFeatures=8 is 0.8047972701726215\n",
            "F1 score of DecisionTreeClassificationModel: uid=DecisionTreeClassifier_e14e20f68c8a, depth=5, numNodes=53, numClasses=3, numFeatures=8 is 0.789776966021722\n"
          ]
        },
        {
          "data": {
            "text/plain": [
              "(0.8047972701726215, 0.809275365961424, 0.8047972701726215, 0.789776966021722)"
            ]
          },
          "execution_count": 29,
          "metadata": {},
          "output_type": "execute_result"
        }
      ],
      "source": [
        "dt= DecisionTreeClassifier(labelCol='PROTOCOLNAME'\n",
        "                           )\n",
        "dt_model = dt.fit(train_df)\n",
        "dt_pred = dt_model.transform(valid_df)\n",
        "evaluate_model(dt_model,dt_pred)"
      ]
    },
    {
      "cell_type": "markdown",
      "metadata": {
        "id": "-JaCHJRQU4-X"
      },
      "source": [
        "### Pipeline"
      ]
    },
    {
      "cell_type": "code",
      "execution_count": 30,
      "metadata": {},
      "outputs": [
        {
          "name": "stdout",
          "output_type": "stream",
          "text": [
            "Accuracy of CrossValidatorModel_977f69ce2d3d is 0.804696908871939\n",
            "Precision of CrossValidatorModel_977f69ce2d3d is 0.809172032043196\n",
            "Recall of CrossValidatorModel_977f69ce2d3d is 0.804696908871939\n",
            "F1 score of CrossValidatorModel_977f69ce2d3d is 0.789675943856393\n"
          ]
        },
        {
          "data": {
            "text/plain": [
              "(0.804696908871939, 0.809172032043196, 0.804696908871939, 0.789675943856393)"
            ]
          },
          "execution_count": 30,
          "metadata": {},
          "output_type": "execute_result"
        }
      ],
      "source": [
        "#Creating pipeline\n",
        "pipeline_dt = Pipeline(stages=[dt])\n",
        "\n",
        "#Creating evaluator\n",
        "evaluator = MulticlassClassificationEvaluator(labelCol='PROTOCOLNAME', metricName='accuracy')\n",
        "\n",
        "#Creating Grid\n",
        "paramGrid = ParamGridBuilder().\\\n",
        "            addGrid(dt.maxDepth, [3, 4, 5]).\\\n",
        "            addGrid(dt.minInfoGain, [0.001, 0.01, 0.1]).\\\n",
        "            build()\n",
        "\n",
        "#Initializing crossvalidator\n",
        "selected_model = CrossValidator(estimator=pipeline_dt,\n",
        "                                estimatorParamMaps=paramGrid,\n",
        "                                evaluator=evaluator,\n",
        "                                numFolds=5)\n",
        "\n",
        "model_final = selected_model.fit(train_df)\n",
        "pred_train = model_final.transform(valid_df)\n",
        "evaluate_model(model_final, pred_train)\n"
      ]
    },
    {
      "cell_type": "code",
      "execution_count": null,
      "metadata": {
        "id": "9q_Nyuh1Y0Az"
      },
      "outputs": [],
      "source": [
        "\n",
        "model_final.write().save('network_traffic_analysis.model')"
      ]
    },
    {
      "cell_type": "code",
      "execution_count": 31,
      "metadata": {
        "id": "GNf0w6k6yhuh"
      },
      "outputs": [],
      "source": [
        "\n",
        "from pyspark.ml.tuning import CrossValidatorModel\n",
        "\n",
        "loaded_model = CrossValidatorModel.load('network_traffic_analysis.model')"
      ]
    }
  ],
  "metadata": {
    "accelerator": "GPU",
    "colab": {
      "gpuType": "T4",
      "provenance": []
    },
    "kernelspec": {
      "display_name": "Python 3",
      "name": "python3"
    },
    "language_info": {
      "codemirror_mode": {
        "name": "ipython",
        "version": 3
      },
      "file_extension": ".py",
      "mimetype": "text/x-python",
      "name": "python",
      "nbconvert_exporter": "python",
      "pygments_lexer": "ipython3",
      "version": "3.9.0"
    }
  },
  "nbformat": 4,
  "nbformat_minor": 0
}
